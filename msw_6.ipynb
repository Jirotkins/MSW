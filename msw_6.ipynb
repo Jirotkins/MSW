{
 "cells": [
  {
   "cell_type": "code",
   "execution_count": 8,
   "metadata": {},
   "outputs": [
    {
     "name": "stdout",
     "output_type": "stream",
     "text": [
      "500/500\n",
      "Your seed is: 520307623066\n"
     ]
    }
   ],
   "source": [
    "import time\n",
    "import math\n",
    "import pyautogui\n",
    "\n",
    "N = 500\n",
    "positions = []\n",
    "\n",
    "def get_pos():\n",
    "    pos = pyautogui.position()\n",
    "    return (pos.x, pos.y)\n",
    "\n",
    "def pos_distance(pos1, pos2):\n",
    "    x1, y1 = pos1\n",
    "    x2, y2 = pos2\n",
    "\n",
    "    return abs(x1-x2) + abs(y1-y2)\n",
    "\n",
    "def get_seed(data):\n",
    "    seed = 0\n",
    "    for i in range(len(data)):\n",
    "        seed += (data[i][0] * data[i][1])**2\n",
    "    return seed\n",
    "\n",
    "input(\"Move the mouse cursor for a bit.\\n\\\n",
    "Press ENTER to continue.\")\n",
    "\n",
    "prev_pos = (0, 0)\n",
    "\n",
    "while len(positions) < N:\n",
    "    time.sleep(0.01)\n",
    "    x, y = get_pos()\n",
    "    if pos_distance(prev_pos, (x, y)) > 20:\n",
    "        positions.append( (x, y) )\n",
    "    print(f\"{len(positions)}/{N}\", end = \"\\r\")\n",
    "    prev_pos = (x, y)\n",
    "print()\n",
    "\n",
    "seed = get_seed(positions)\n",
    "print(f\"Your seed is: {seed}\")"
   ]
  }
 ],
 "metadata": {
  "kernelspec": {
   "display_name": "Python 3.10.0 64-bit",
   "language": "python",
   "name": "python3"
  },
  "language_info": {
   "codemirror_mode": {
    "name": "ipython",
    "version": 3
   },
   "file_extension": ".py",
   "mimetype": "text/x-python",
   "name": "python",
   "nbconvert_exporter": "python",
   "pygments_lexer": "ipython3",
   "version": "3.10.0"
  },
  "orig_nbformat": 4,
  "vscode": {
   "interpreter": {
    "hash": "f1230bc2996daf223e6b57a912b6139c94249dacdc4187f83e6f04a96b987e10"
   }
  }
 },
 "nbformat": 4,
 "nbformat_minor": 2
}
