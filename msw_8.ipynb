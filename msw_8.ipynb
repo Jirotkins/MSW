{
 "cells": [
  {
   "cell_type": "code",
   "execution_count": 3,
   "metadata": {},
   "outputs": [],
   "source": [
    "def forward_derivate(f, x0, h):\n",
    "    return (f(x0+h) - f(x0))/h\n",
    "\n",
    "def backward_derivate(f, x0, h):\n",
    "    return (f(x0) - f(x0-h))/h\n",
    "\n",
    "def central_derivate(f, x0, h):\n",
    "    return (f(x0+h) - f(x0-h))/(2*h)"
   ]
  },
  {
   "cell_type": "code",
   "execution_count": 6,
   "metadata": {},
   "outputs": [
    {
     "name": "stdout",
     "output_type": "stream",
     "text": [
      "forward static: 126.24010000000013, forward ad.: 137.40160000000017, difference = 11.161500000000046\n",
      "backward static: 106.6201000000001, backward ad.: 98.04159999999996, difference = 8.578500000000133\n",
      "central static: 116.43010000000011, central ad.: 117.72160000000007, difference = 1.2914999999999566\n"
     ]
    }
   ],
   "source": [
    "func = lambda x: x**5 + 3*x**3\n",
    "x0 = 2\n",
    "h = 0.1\n",
    "h_adaptive = float(input(\"Put in an adaptive parameter (0-1): \"))\n",
    "\n",
    "forward_s = forward_derivate(func, x0, h)\n",
    "backward_s = backward_derivate(func, x0, h)\n",
    "central_s = central_derivate(func, x0, h)\n",
    "\n",
    "forward_ad = forward_derivate(func, x0, h_adaptive)\n",
    "backward_ad = backward_derivate(func, x0, h_adaptive)\n",
    "central_ad = central_derivate(func, x0, h_adaptive)\n",
    "\n",
    "print(f\"forward static: {forward_s}, forward ad.: {forward_ad}, difference = {abs(forward_s - forward_ad)}\")\n",
    "print(f\"backward static: {backward_s}, backward ad.: {backward_ad}, difference = {abs(backward_s - backward_ad)}\")\n",
    "print(f\"central static: {central_s}, central ad.: {central_ad}, difference = {abs(central_s - central_ad)}\")"
   ]
  }
 ],
 "metadata": {
  "kernelspec": {
   "display_name": "Python 3.10.0 64-bit",
   "language": "python",
   "name": "python3"
  },
  "language_info": {
   "codemirror_mode": {
    "name": "ipython",
    "version": 3
   },
   "file_extension": ".py",
   "mimetype": "text/x-python",
   "name": "python",
   "nbconvert_exporter": "python",
   "pygments_lexer": "ipython3",
   "version": "3.10.0"
  },
  "orig_nbformat": 4,
  "vscode": {
   "interpreter": {
    "hash": "f1230bc2996daf223e6b57a912b6139c94249dacdc4187f83e6f04a96b987e10"
   }
  }
 },
 "nbformat": 4,
 "nbformat_minor": 2
}
