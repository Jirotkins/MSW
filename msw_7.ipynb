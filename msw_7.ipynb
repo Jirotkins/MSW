{
 "cells": [
  {
   "cell_type": "code",
   "execution_count": 228,
   "metadata": {},
   "outputs": [],
   "source": [
    "import random\n",
    "import copy\n",
    "import matplotlib.pyplot as plt\n",
    "\n",
    "def deck():\n",
    "  cards = {\n",
    "    \"color\" : [\"♥\", \"♣\", \"♦\", \"♠\"],\n",
    "    \"value\" : [\"jack\", \"king\", 7, 8, 9, 10, \"lady\", \"ace\"]\n",
    "  }\n",
    "  deck = []\n",
    "  for color in cards[\"color\"]:\n",
    "    for value in cards[\"value\"]:\n",
    "      deck.append((color, value))\n",
    "  return deck\n",
    "\n",
    "org_deck = deck()\n",
    "\n",
    "def MonteCarlo(n):\n",
    "    res = 0\n",
    "    chance = []\n",
    "    for i in range(n):\n",
    "        deck = copy.deepcopy(org_deck)\n",
    "        random.shuffle(deck)\n",
    "        if tripleKing(deck): res += 1\n",
    "        chance.append(res/(i+1)*100)\n",
    "    print(f\"The chance of finding 3 kings in a row is: {(res/n * 100):.3f}%\")\n",
    "\n",
    "    plt.plot(chance, \"b\")\n",
    "    plt.xlabel(\"Iterations\")\n",
    "    plt.ylabel(\"Result\")\n",
    "    plt.show()\n",
    "\n",
    "def tripleKing(deck):\n",
    "    for i in range(len(deck)-2):\n",
    "        if deck[i][1] == \"king\" and deck[i+1][1] ==\"king\" and deck[i+2][1] == \"king\":\n",
    "            return True\n"
   ]
  },
  {
   "cell_type": "code",
   "execution_count": 235,
   "metadata": {},
   "outputs": [
    {
     "name": "stdout",
     "output_type": "stream",
     "text": [
      "The chance of finding 3 kings in a row is: 2.100%\n"
     ]
    },
    {
     "data": {
      "image/png": "[encoded data removed]",
      "text/plain": [
       "<Figure size 432x288 with 1 Axes>"
      ]
     },
     "metadata": {
      "needs_background": "light"
     },
     "output_type": "display_data"
    }
   ],
   "source": [
    "#Chance of finding 3 kings in a row in shuffled deck with N iterations\n",
    "MonteCarlo(1000)\n"
   ]
  }
 ],
 "metadata": {
  "kernelspec": {
   "display_name": "Python 3.10.0 64-bit",
   "language": "python",
   "name": "python3"
  },
  "language_info": {
   "codemirror_mode": {
    "name": "ipython",
    "version": 3
   },
   "file_extension": ".py",
   "mimetype": "text/x-python",
   "name": "python",
   "nbconvert_exporter": "python",
   "pygments_lexer": "ipython3",
   "version": "3.10.0"
  },
  "orig_nbformat": 4,
  "vscode": {
   "interpreter": {
    "hash": "f1230bc2996daf223e6b57a912b6139c94249dacdc4187f83e6f04a96b987e10"
   }
  }
 },
 "nbformat": 4,
 "nbformat_minor": 2
}
