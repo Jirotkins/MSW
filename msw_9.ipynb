{
 "cells": [
  {
   "cell_type": "code",
   "execution_count": 3,
   "metadata": {},
   "outputs": [],
   "source": [
    "import numpy as np\n",
    "import scipy.integrate\n",
    "\n",
    "# analytické řešení\n",
    "def analytic(f, a, b):\n",
    "    x = scipy.integrate.quad(f, a, b)\n",
    "    return(x[0])\n",
    "\n",
    "# scipy trapezoid\n",
    "def scipy_trapezoid(f, a, b, dx):\n",
    "    x = np.arange(a, b+dx, dx)\n",
    "    y = f(x)\n",
    "    return(scipy.integrate.trapezoid(y, x))\n",
    "\n",
    "# scipy simpson\n",
    "def scipy_simpson(f, a, b, dx):\n",
    "    x = np.arange(a, b+dx, dx)\n",
    "    y = f(x)\n",
    "    return(scipy.integrate.simpson(y, x))\n",
    "\n",
    "# scipy romberg\n",
    "def scipy_romberg(f, a, b):\n",
    "    return(scipy.integrate.romberg(f, a, b))\n",
    "\n",
    "# scipy gaussian\n",
    "def scipy_gaussian(f, a, b):\n",
    "    return(scipy.integrate.quadrature(f, a, b)[0])"
   ]
  },
  {
   "cell_type": "code",
   "execution_count": 6,
   "metadata": {},
   "outputs": [],
   "source": [
    "def func1(x):\n",
    "    return x**3 + 2*x**2 - x\n",
    "def func2(x):\n",
    "    return 3*x - np.exp(4*x) + 2\n",
    "def func3(x):\n",
    "    return np.cos(x-2)\n",
    "\n",
    "a = 0\n",
    "b = np.pi/2.\n",
    "dx = 0.1"
   ]
  },
  {
   "cell_type": "code",
   "execution_count": 9,
   "metadata": {},
   "outputs": [
    {
     "name": "stdout",
     "output_type": "stream",
     "text": [
      "TRAPEZOID: result: -1.0608, difference: -0.06412089261733045\n",
      "ROMBERG: result: -1.12492089261733, difference: -4.440892098500626e-16\n",
      "SIMPSON: result: -1.0623999999999996, difference: -0.06252089261733085\n",
      "GAUSS: result: -1.1249208926173309, difference: 4.440892098500626e-16\n"
     ]
    }
   ],
   "source": [
    "#First function\n",
    "a1 = analytic(func1, a, b)\n",
    "f1 = scipy_trapezoid(func1, a, b, dx)\n",
    "f2 = scipy_romberg(func1, a, b)\n",
    "f3 = scipy_simpson(func1, a, b, dx)\n",
    "f4 = scipy_gaussian(func1, a, b)\n",
    "print(f\"TRAPEZOID: result: {f1}, difference: {a1 - f1}\")\n",
    "print(f\"ROMBERG: result: {f2}, difference: {a1 - f2}\")\n",
    "print(f\"SIMPSON: result: {f3}, difference: {a1 - f3}\")\n",
    "print(f\"GAUSS: result: {f4}, difference: {a1 - f4}\")"
   ]
  },
  {
   "cell_type": "code",
   "execution_count": 11,
   "metadata": {},
   "outputs": [
    {
     "name": "stdout",
     "output_type": "stream",
     "text": [
      "TRAPEZOID: result: 18.0359190762433, difference: -0.5122554005386739\n",
      "ROMBERG: result: 17.52366367570411, difference: 5.151434834260726e-13\n",
      "SIMPSON: result: 18.03999968459906, difference: -0.5163360088944344\n",
      "GAUSS: result: 17.523663675840783, difference: -1.361577517400292e-10\n"
     ]
    }
   ],
   "source": [
    "#Second function\n",
    "a1 = analytic(func2, a, b)\n",
    "f1 = scipy_trapezoid(func2, a, b, dx)\n",
    "f2 = scipy_romberg(func2, a, b)\n",
    "f3 = scipy_simpson(func2, a, b, dx)\n",
    "f4 = scipy_gaussian(func2, a, b)\n",
    "print(f\"TRAPEZOID: result: {f1}, difference: {a1 - f1}\")\n",
    "print(f\"ROMBERG: result: {f2}, difference: {a1 - f2}\")\n",
    "print(f\"SIMPSON: result: {f3}, difference: {a1 - f3}\")\n",
    "print(f\"GAUSS: result: {f4}, difference: {a1 - f4}\")"
   ]
  },
  {
   "cell_type": "code",
   "execution_count": 12,
   "metadata": {},
   "outputs": [
    {
     "name": "stdout",
     "output_type": "stream",
     "text": [
      "TRAPEZOID: result: 0.4802110033696766, difference: 0.01293958690886271\n",
      "ROMBERG: result: 0.4931505902775615, difference: 9.778289289386066e-13\n",
      "SIMPSON: result: 0.48061184711163674, difference: 0.012538743166902566\n",
      "GAUSS: result: 0.49315059029805086, difference: -1.9511559035123582e-11\n"
     ]
    }
   ],
   "source": [
    "#Third function\n",
    "a1 = analytic(func3, a, b)\n",
    "f1 = scipy_trapezoid(func3, a, b, dx)\n",
    "f2 = scipy_romberg(func3, a, b)\n",
    "f3 = scipy_simpson(func3, a, b, dx)\n",
    "f4 = scipy_gaussian(func3, a, b)\n",
    "print(f\"TRAPEZOID: result: {f1}, difference: {a1 - f1}\")\n",
    "print(f\"ROMBERG: result: {f2}, difference: {a1 - f2}\")\n",
    "print(f\"SIMPSON: result: {f3}, difference: {a1 - f3}\")\n",
    "print(f\"GAUSS: result: {f4}, difference: {a1 - f4}\")"
   ]
  }
 ],
 "metadata": {
  "kernelspec": {
   "display_name": "Python 3.10.0 64-bit",
   "language": "python",
   "name": "python3"
  },
  "language_info": {
   "codemirror_mode": {
    "name": "ipython",
    "version": 3
   },
   "file_extension": ".py",
   "mimetype": "text/x-python",
   "name": "python",
   "nbconvert_exporter": "python",
   "pygments_lexer": "ipython3",
   "version": "3.10.0"
  },
  "orig_nbformat": 4,
  "vscode": {
   "interpreter": {
    "hash": "f1230bc2996daf223e6b57a912b6139c94249dacdc4187f83e6f04a96b987e10"
   }
  }
 },
 "nbformat": 4,
 "nbformat_minor": 2
}
